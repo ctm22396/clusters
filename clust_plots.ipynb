{
 "cells": [
  {
   "cell_type": "code",
   "execution_count": 1,
   "metadata": {
    "collapsed": false,
    "slideshow": {
     "slide_type": "skip"
    }
   },
   "outputs": [],
   "source": [
    "import seaborn as sn\n",
    "import numpy as np\n",
    "%matplotlib inline"
   ]
  },
  {
   "cell_type": "code",
   "execution_count": 2,
   "metadata": {
    "collapsed": false,
    "slideshow": {
     "slide_type": "skip"
    }
   },
   "outputs": [],
   "source": [
    "def cust_factorplot(x, y, hue, data, kind, palette, ax=None):\n",
    "    sn.factorplot(x=x,y=y,hue=hue,data=data, kind=kind, palette=palette, ax=ax)\n",
    "    sn.plt.close()\n",
    "    ax.set_axis_bgcolor('white')\n",
    "    ax.spines['bottom'].set_color('black')\n",
    "    ax.set_xlabel(\"\")\n",
    "    ax.set_ylabel(\"weight\")"
   ]
  },
  {
   "cell_type": "code",
   "execution_count": 3,
   "metadata": {
    "collapsed": false,
    "slideshow": {
     "slide_type": "skip"
    }
   },
   "outputs": [],
   "source": [
    "def plot_cluster(cluster_name, which):\n",
    "    entry = means_dict[cluster_name]\n",
    "    vel_df = entry['vel_df']\n",
    "    prox_df = vel_df = entry['prox_df']\n",
    "    if which == 'velocity':\n",
    "        fig, ax = sn.plt.subplots(1, figsize=(6,4))\n",
    "        cust_factorplot(x='prox',y='weight',hue='vel',data=vel_df, kind='bar', palette=np.array(sn.color_palette())[[0,2]], ax=ax)\n",
    "        ax.set_title('{}:\\nVelocity Binned by Proximity'.format(cluster_name.replace('_', ' ').title()), ha='center')\n",
    "    elif which == 'proximity':\n",
    "        fig, ax = sn.plt.subplots(1, figsize=(6,4))\n",
    "        cust_factorplot(x='vel',y='weight',hue='prox',data=prox_df, kind='bar', palette=np.array(sn.color_palette())[[1,3]], ax=ax)\n",
    "        ax.set_title('{}:\\nProximity Binned by Velocity'.format(cluster_name.replace('_', ' ').title()), ha='center')\n",
    "    else:\n",
    "        fig, (vel_ax, prox_ax) = sn.plt.subplots(1, 2, figsize=(12,4))\n",
    "        cust_factorplot(x='prox',y='weight',hue='vel',data=vel_df, kind='bar', palette=np.array(sn.color_palette())[[0,2]], ax=vel_ax)\n",
    "        vel_ax.set_title('{}:\\nVelocity Binned by Proximity'.format(cluster_name.replace('_', ' ').title()), ha='center')\n",
    "        cust_factorplot(x='vel',y='weight',hue='prox',data=prox_df, kind='bar', palette=np.array(sn.color_palette())[[1,3]], ax=prox_ax)\n",
    "        prox_ax.set_title('{}:\\nProximity Binned by Velocity'.format(cluster_name.replace('_', ' ').title()), ha='center')"
   ]
  },
  {
   "cell_type": "code",
   "execution_count": 4,
   "metadata": {
    "collapsed": false,
    "slideshow": {
     "slide_type": "skip"
    }
   },
   "outputs": [],
   "source": [
    "import os\n",
    "import pandas as pd"
   ]
  },
  {
   "cell_type": "code",
   "execution_count": 5,
   "metadata": {
    "collapsed": false,
    "slideshow": {
     "slide_type": "skip"
    }
   },
   "outputs": [],
   "source": [
    "clust_files = [x for x in os.listdir() if x.endswith('.1D')]\n",
    "clust_nums = [x.split('_')[1] for x  in clust_files]\n",
    "clust_df = pd.DataFrame([clust_nums,clust_files]).T\n",
    "clust_df.columns = ['number', 'mean_file']\n",
    "clust_df.index = ['right_latIPS', 'left_latIPS',\n",
    "                  'left_FEF', 'right_FEF',\n",
    "                  'left_SMA', 'right_SMA',\n",
    "                  'right_insula', 'left_insula',\n",
    "                  'right_caudate', 'left_caudate',\n",
    "                  'right_PAG', 'left_PAG',\n",
    "                  'right_amygdala', 'MPFC']\n",
    "means_dict = {row[0]: {'vel_df':pd.DataFrame([np.loadtxt(row[1].mean_file)[:,1],\n",
    "                                              ['approach']*2 + ['retreat']*2,\n",
    "                                              ['near', 'far', 'near', 'far']],\n",
    "                                             index = ['weight', 'vel', 'prox']).T,\n",
    "                       'prox_df':pd.DataFrame([np.loadtxt(row[1].mean_file)[:,0],\n",
    "                                              ['approach']*2 + ['retreat']*2,\n",
    "                                              ['near', 'far', 'near', 'far']],\n",
    "                                             index = ['weight', 'vel', 'prox']).T\n",
    "                       } for row in clust_df.iterrows()\n",
    "                      }"
   ]
  },
  {
   "cell_type": "code",
   "execution_count": 6,
   "metadata": {
    "collapsed": false,
    "scrolled": true,
    "slideshow": {
     "slide_type": "skip"
    }
   },
   "outputs": [],
   "source": [
    "from ipywidgets import interact, widgets\n",
    "from IPython.display import display"
   ]
  },
  {
   "cell_type": "code",
   "execution_count": 7,
   "metadata": {
    "collapsed": false,
    "scrolled": true,
    "slideshow": {
     "slide_type": "slide"
    }
   },
   "outputs": [
    {
     "data": {
      "image/png": "[encoded data removed]",
      "text/plain": [
       "<matplotlib.figure.Figure at 0xa3504b8c>"
      ]
     },
     "metadata": {},
     "output_type": "display_data"
    }
   ],
   "source": [
    "i = interact(plot_cluster,\n",
    "             cluster_name=widgets.Select(options=clust_df.index.values.tolist(), \n",
    "                                         value='right_latIPS',\n",
    "                                         description='Choose Region'),\n",
    "             which=widgets.RadioButtons(options=['both', 'velocity', 'proximity'],\n",
    "                                        value='both',\n",
    "                                        description='')\n",
    "            )"
   ]
  }
 ],
 "metadata": {
  "celltoolbar": "Slideshow",
  "kernelspec": {
   "display_name": "Python 3",
   "language": "python",
   "name": "python3"
  },
  "language_info": {
   "codemirror_mode": {
    "name": "ipython",
    "version": 3
   },
   "file_extension": ".py",
   "mimetype": "text/x-python",
   "name": "python",
   "nbconvert_exporter": "python",
   "pygments_lexer": "ipython3",
   "version": "3.5.2"
  },
  "widgets": {
   "state": {
    "4584021ccee644d9b4567f4be22f4608": {
     "views": [
      {
       "cell_index": 6
      }
     ]
    }
   },
   "version": "1.2.0"
  }
 },
 "nbformat": 4,
 "nbformat_minor": 0
}
